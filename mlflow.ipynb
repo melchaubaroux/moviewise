{
 "cells": [
  {
   "cell_type": "code",
   "execution_count": 45,
   "metadata": {},
   "outputs": [],
   "source": [
    "import mlflow \n",
    "\n",
    "import pandas as pd\n",
    "import numpy as np\n",
    "\n",
    "from sklearn.decomposition import NMF\n",
    "from sklearn.metrics import mean_squared_error\n",
    "from  sklearn.model_selection import train_test_split"
   ]
  },
  {
   "cell_type": "code",
   "execution_count": 46,
   "metadata": {},
   "outputs": [
    {
     "data": {
      "text/html": [
       "<div>\n",
       "<style scoped>\n",
       "    .dataframe tbody tr th:only-of-type {\n",
       "        vertical-align: middle;\n",
       "    }\n",
       "\n",
       "    .dataframe tbody tr th {\n",
       "        vertical-align: top;\n",
       "    }\n",
       "\n",
       "    .dataframe thead th {\n",
       "        text-align: right;\n",
       "    }\n",
       "</style>\n",
       "<table border=\"1\" class=\"dataframe\">\n",
       "  <thead>\n",
       "    <tr style=\"text-align: right;\">\n",
       "      <th></th>\n",
       "      <th>movie</th>\n",
       "      <th>user</th>\n",
       "      <th>timestamp</th>\n",
       "      <th>rating</th>\n",
       "    </tr>\n",
       "  </thead>\n",
       "  <tbody>\n",
       "    <tr>\n",
       "      <th>0</th>\n",
       "      <td>858</td>\n",
       "      <td>6040</td>\n",
       "      <td>956703932</td>\n",
       "      <td>4</td>\n",
       "    </tr>\n",
       "    <tr>\n",
       "      <th>1</th>\n",
       "      <td>2384</td>\n",
       "      <td>6040</td>\n",
       "      <td>956703954</td>\n",
       "      <td>4</td>\n",
       "    </tr>\n",
       "    <tr>\n",
       "      <th>2</th>\n",
       "      <td>593</td>\n",
       "      <td>6040</td>\n",
       "      <td>956703954</td>\n",
       "      <td>5</td>\n",
       "    </tr>\n",
       "    <tr>\n",
       "      <th>3</th>\n",
       "      <td>2019</td>\n",
       "      <td>6040</td>\n",
       "      <td>956703977</td>\n",
       "      <td>5</td>\n",
       "    </tr>\n",
       "    <tr>\n",
       "      <th>4</th>\n",
       "      <td>1961</td>\n",
       "      <td>6040</td>\n",
       "      <td>956703977</td>\n",
       "      <td>4</td>\n",
       "    </tr>\n",
       "    <tr>\n",
       "      <th>...</th>\n",
       "      <td>...</td>\n",
       "      <td>...</td>\n",
       "      <td>...</td>\n",
       "      <td>...</td>\n",
       "    </tr>\n",
       "    <tr>\n",
       "      <th>1000204</th>\n",
       "      <td>2399</td>\n",
       "      <td>4958</td>\n",
       "      <td>1046454338</td>\n",
       "      <td>1</td>\n",
       "    </tr>\n",
       "    <tr>\n",
       "      <th>1000205</th>\n",
       "      <td>1407</td>\n",
       "      <td>4958</td>\n",
       "      <td>1046454443</td>\n",
       "      <td>5</td>\n",
       "    </tr>\n",
       "    <tr>\n",
       "      <th>1000206</th>\n",
       "      <td>3264</td>\n",
       "      <td>4958</td>\n",
       "      <td>1046454548</td>\n",
       "      <td>4</td>\n",
       "    </tr>\n",
       "    <tr>\n",
       "      <th>1000207</th>\n",
       "      <td>2634</td>\n",
       "      <td>4958</td>\n",
       "      <td>1046454548</td>\n",
       "      <td>3</td>\n",
       "    </tr>\n",
       "    <tr>\n",
       "      <th>1000208</th>\n",
       "      <td>1924</td>\n",
       "      <td>4958</td>\n",
       "      <td>1046454590</td>\n",
       "      <td>4</td>\n",
       "    </tr>\n",
       "  </tbody>\n",
       "</table>\n",
       "<p>1000209 rows × 4 columns</p>\n",
       "</div>"
      ],
      "text/plain": [
       "         movie  user   timestamp  rating\n",
       "0          858  6040   956703932       4\n",
       "1         2384  6040   956703954       4\n",
       "2          593  6040   956703954       5\n",
       "3         2019  6040   956703977       5\n",
       "4         1961  6040   956703977       4\n",
       "...        ...   ...         ...     ...\n",
       "1000204   2399  4958  1046454338       1\n",
       "1000205   1407  4958  1046454443       5\n",
       "1000206   3264  4958  1046454548       4\n",
       "1000207   2634  4958  1046454548       3\n",
       "1000208   1924  4958  1046454590       4\n",
       "\n",
       "[1000209 rows x 4 columns]"
      ]
     },
     "execution_count": 46,
     "metadata": {},
     "output_type": "execute_result"
    }
   ],
   "source": [
    "df=pd.read_csv('matrice_avis_utilisateur.csv')\n",
    "df"
   ]
  },
  {
   "cell_type": "code",
   "execution_count": 47,
   "metadata": {},
   "outputs": [
    {
     "name": "stderr",
     "output_type": "stream",
     "text": [
      "2024/03/04 01:06:52 INFO mlflow.tracking.fluent: Autologging successfully enabled for sklearn.\n",
      "2024/03/04 01:06:56 WARNING mlflow.sklearn: Training metrics will not be recorded because training labels were not specified. To automatically record training metrics, provide training labels as inputs to the model training function.\n",
      "2024/03/04 01:06:56 WARNING mlflow.sklearn: Model was missing function: predict. Not logging python_function flavor!\n"
     ]
    }
   ],
   "source": [
    "mlflow.autolog()\n",
    "\n",
    "with mlflow.start_run():\n",
    "\n",
    "\n",
    "    df_sparse = df.astype(pd.SparseDtype(\"float\", 0))\n",
    "\n",
    "    nmf = NMF(n_components=18)\n",
    "\n",
    "    X_train, X_test = train_test_split(df_sparse, test_size=0.2, random_state=42)\n",
    "\n",
    "    W = nmf.fit_transform(X_train.values)  # User matrix\n",
    "    H = nmf.components_  # Item matrix\n",
    "\n",
    "    # Appliquez la NMF sur l'ensemble de test (si nécessaire)\n",
    "    nmf_result_test = nmf.transform(X_test.values)\n",
    "   \n",
    "\n",
    "    \n",
    "    pred_train_matrix = np.dot(W,H)\n",
    "    pred_test_matrix = np.dot(nmf_result_test,H)\n",
    "\n",
    "    predicted_df_train = pd.DataFrame(pred_train_matrix, columns=df_sparse.columns)\n",
    "    predicted_df_test = pd.DataFrame(pred_test_matrix, columns=df_sparse.columns)\n",
    "\n",
    "    mse_train = mean_squared_error(pred_train_matrix,X_train.values)\n",
    "    mse_test =  mean_squared_error(pred_test_matrix,X_test.values)\n",
    "    \n",
    "    mlflow.log_metric(\"mse train\",mse_train )\n",
    "    mlflow.log_metric(\"mse test\",mse_test)\n"
   ]
  },
  {
   "cell_type": "code",
   "execution_count": 48,
   "metadata": {},
   "outputs": [
    {
     "data": {
      "text/plain": [
       "(31195.696851479835, 90978.14437944732)"
      ]
     },
     "execution_count": 48,
     "metadata": {},
     "output_type": "execute_result"
    }
   ],
   "source": [
    "mse_train,mse_test\n"
   ]
  }
 ],
 "metadata": {
  "kernelspec": {
   "display_name": "base",
   "language": "python",
   "name": "python3"
  },
  "language_info": {
   "codemirror_mode": {
    "name": "ipython",
    "version": 3
   },
   "file_extension": ".py",
   "mimetype": "text/x-python",
   "name": "python",
   "nbconvert_exporter": "python",
   "pygments_lexer": "ipython3",
   "version": "3.11.5"
  }
 },
 "nbformat": 4,
 "nbformat_minor": 2
}
