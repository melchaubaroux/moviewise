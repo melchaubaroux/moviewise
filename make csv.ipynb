{
 "cells": [
  {
   "cell_type": "code",
   "execution_count": 2,
   "metadata": {},
   "outputs": [],
   "source": [
    "from pymongo import MongoClient\n",
    "import pandas as pd\n",
    "import time\n"
   ]
  },
  {
   "cell_type": "code",
   "execution_count": 3,
   "metadata": {},
   "outputs": [
    {
     "name": "stdout",
     "output_type": "stream",
     "text": [
      "Connecté à la bdd en:0.021998167037963867\n"
     ]
    }
   ],
   "source": [
    "try:\n",
    "    start = time.time()\n",
    "    # Connexion à MongoDB\n",
    "    client = MongoClient(\"mongodb://localhost:27017/\")\n",
    "    db = client[\"pradel\"]\n",
    "    movies = db[\"movie\"]\n",
    "    users = db[\"user\"]\n",
    "    end = time.time()\n",
    "    print('Connecté à la bdd en:' + str(end - start))\n",
    "except:\n",
    "    print(\"erreur de la connection mongo\")\n",
    "    # raise HTTPException(status_code=500)"
   ]
  },
  {
   "cell_type": "code",
   "execution_count": 11,
   "metadata": {},
   "outputs": [],
   "source": [
    "# recuperer les infos sur un utilisateur  sous forme de dict\n",
    "\n",
    "def info_user (_id):\n",
    "\n",
    "    user_info=dict(users.find_one({'_id':_id}))\n",
    "    user_id=user_info['_id']\n",
    "    rated=user_info['movies']\n",
    "\n",
    "    newlines=[]\n",
    "\n",
    "    for r in rated : \n",
    "        newline={\n",
    "\n",
    "            'movie': r['movieid'],\n",
    "\n",
    "            'user':user_id,\n",
    "\n",
    "            'timestamp':r['timestamp'],\n",
    "\n",
    "            'rating': r['rating']\n",
    "\n",
    "        }\n",
    "\n",
    "        newlines+=[newline]\n",
    "       \n",
    "    return newlines"
   ]
  },
  {
   "cell_type": "code",
   "execution_count": 12,
   "metadata": {},
   "outputs": [],
   "source": [
    "line=[]\n",
    "\n",
    "for user in users.find({}):\n",
    "\n",
    "    _id=dict(user)['_id']\n",
    "    line+=info_user(_id)"
   ]
  },
  {
   "cell_type": "code",
   "execution_count": 13,
   "metadata": {},
   "outputs": [
    {
     "data": {
      "text/html": [
       "<div>\n",
       "<style scoped>\n",
       "    .dataframe tbody tr th:only-of-type {\n",
       "        vertical-align: middle;\n",
       "    }\n",
       "\n",
       "    .dataframe tbody tr th {\n",
       "        vertical-align: top;\n",
       "    }\n",
       "\n",
       "    .dataframe thead th {\n",
       "        text-align: right;\n",
       "    }\n",
       "</style>\n",
       "<table border=\"1\" class=\"dataframe\">\n",
       "  <thead>\n",
       "    <tr style=\"text-align: right;\">\n",
       "      <th></th>\n",
       "      <th>movie</th>\n",
       "      <th>user</th>\n",
       "      <th>timestamp</th>\n",
       "      <th>rating</th>\n",
       "    </tr>\n",
       "  </thead>\n",
       "  <tbody>\n",
       "    <tr>\n",
       "      <th>0</th>\n",
       "      <td>858</td>\n",
       "      <td>6040</td>\n",
       "      <td>956703932</td>\n",
       "      <td>4</td>\n",
       "    </tr>\n",
       "    <tr>\n",
       "      <th>1</th>\n",
       "      <td>2384</td>\n",
       "      <td>6040</td>\n",
       "      <td>956703954</td>\n",
       "      <td>4</td>\n",
       "    </tr>\n",
       "    <tr>\n",
       "      <th>2</th>\n",
       "      <td>593</td>\n",
       "      <td>6040</td>\n",
       "      <td>956703954</td>\n",
       "      <td>5</td>\n",
       "    </tr>\n",
       "    <tr>\n",
       "      <th>3</th>\n",
       "      <td>2019</td>\n",
       "      <td>6040</td>\n",
       "      <td>956703977</td>\n",
       "      <td>5</td>\n",
       "    </tr>\n",
       "    <tr>\n",
       "      <th>4</th>\n",
       "      <td>1961</td>\n",
       "      <td>6040</td>\n",
       "      <td>956703977</td>\n",
       "      <td>4</td>\n",
       "    </tr>\n",
       "    <tr>\n",
       "      <th>...</th>\n",
       "      <td>...</td>\n",
       "      <td>...</td>\n",
       "      <td>...</td>\n",
       "      <td>...</td>\n",
       "    </tr>\n",
       "    <tr>\n",
       "      <th>1000204</th>\n",
       "      <td>2399</td>\n",
       "      <td>4958</td>\n",
       "      <td>1046454338</td>\n",
       "      <td>1</td>\n",
       "    </tr>\n",
       "    <tr>\n",
       "      <th>1000205</th>\n",
       "      <td>1407</td>\n",
       "      <td>4958</td>\n",
       "      <td>1046454443</td>\n",
       "      <td>5</td>\n",
       "    </tr>\n",
       "    <tr>\n",
       "      <th>1000206</th>\n",
       "      <td>3264</td>\n",
       "      <td>4958</td>\n",
       "      <td>1046454548</td>\n",
       "      <td>4</td>\n",
       "    </tr>\n",
       "    <tr>\n",
       "      <th>1000207</th>\n",
       "      <td>2634</td>\n",
       "      <td>4958</td>\n",
       "      <td>1046454548</td>\n",
       "      <td>3</td>\n",
       "    </tr>\n",
       "    <tr>\n",
       "      <th>1000208</th>\n",
       "      <td>1924</td>\n",
       "      <td>4958</td>\n",
       "      <td>1046454590</td>\n",
       "      <td>4</td>\n",
       "    </tr>\n",
       "  </tbody>\n",
       "</table>\n",
       "<p>1000209 rows × 4 columns</p>\n",
       "</div>"
      ],
      "text/plain": [
       "         movie  user   timestamp  rating\n",
       "0          858  6040   956703932       4\n",
       "1         2384  6040   956703954       4\n",
       "2          593  6040   956703954       5\n",
       "3         2019  6040   956703977       5\n",
       "4         1961  6040   956703977       4\n",
       "...        ...   ...         ...     ...\n",
       "1000204   2399  4958  1046454338       1\n",
       "1000205   1407  4958  1046454443       5\n",
       "1000206   3264  4958  1046454548       4\n",
       "1000207   2634  4958  1046454548       3\n",
       "1000208   1924  4958  1046454590       4\n",
       "\n",
       "[1000209 rows x 4 columns]"
      ]
     },
     "execution_count": 13,
     "metadata": {},
     "output_type": "execute_result"
    }
   ],
   "source": [
    "pd.DataFrame.from_records(line).sort_values('timestamp',axis=0).reset_index(drop=True)"
   ]
  },
  {
   "cell_type": "code",
   "execution_count": 15,
   "metadata": {},
   "outputs": [],
   "source": [
    "pd.DataFrame.from_records(line).sort_values('timestamp',axis=0).reset_index(drop=True).to_csv('matrice_avis_utilisateur.csv',index=False)\n"
   ]
  }
 ],
 "metadata": {
  "kernelspec": {
   "display_name": "base",
   "language": "python",
   "name": "python3"
  },
  "language_info": {
   "codemirror_mode": {
    "name": "ipython",
    "version": 3
   },
   "file_extension": ".py",
   "mimetype": "text/x-python",
   "name": "python",
   "nbconvert_exporter": "python",
   "pygments_lexer": "ipython3",
   "version": "3.11.5"
  }
 },
 "nbformat": 4,
 "nbformat_minor": 2
}
